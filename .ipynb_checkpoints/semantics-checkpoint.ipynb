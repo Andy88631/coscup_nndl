{
 "cells": [
  {
   "cell_type": "markdown",
   "metadata": {},
   "source": [
    "# word2vec"
   ]
  },
  {
   "cell_type": "markdown",
   "metadata": {},
   "source": [
    "## Training"
   ]
  },
  {
   "cell_type": "code",
   "execution_count": 5,
   "metadata": {
    "collapsed": false
   },
   "outputs": [],
   "source": [
    "from gensim import models\n",
    "import json\n",
    "SIZE = 24\n",
    "WINDOW = 5\n",
    "MINC = 5\n",
    "sentences = models.word2vec.LineSentence(\"poem.txt\")\n",
    "model = models.word2vec.Word2Vec(sentences, size=SIZE, window=WINDOW, min_count=MINC, workers=1)\n"
   ]
  },
  {
   "cell_type": "markdown",
   "metadata": {},
   "source": [
    "## Semantic Similarity"
   ]
  },
  {
   "cell_type": "code",
   "execution_count": 3,
   "metadata": {
    "collapsed": false
   },
   "outputs": [
    {
     "name": "stdout",
     "output_type": "stream",
     "text": [
      "山\n",
      "峰 0.698313355446\n",
      "庵 0.676769733429\n",
      "溪 0.665202975273\n",
      "嶺 0.658676505089\n",
      "岩 0.654085755348\n",
      "灃 0.643250048161\n",
      "坡 0.61414206028\n",
      "寺 0.589235305786\n",
      "岑 0.558074116707\n",
      "嶂 0.548530876637\n",
      "------\n",
      "水\n",
      "澗 0.694949269295\n",
      "瀨 0.683658599854\n",
      "淺 0.678385734558\n",
      "浸 0.675026535988\n",
      "澌 0.671762704849\n",
      "潏 0.670318365097\n",
      "瀑 0.656361579895\n",
      "潭 0.654210805893\n",
      "瀲 0.652281701565\n",
      "波 0.650013804436\n",
      "------\n",
      "江\n",
      "湖 0.762390971184\n",
      "淮 0.76048874855\n",
      "溪 0.735571205616\n",
      "沅 0.70105278492\n",
      "潮 0.699643015862\n",
      "橋 0.6931027174\n",
      "蘺 0.689775466919\n",
      "浙 0.68466937542\n",
      "川 0.684661746025\n",
      "淇 0.678875565529\n",
      "------\n",
      "峰\n",
      "山 0.698313415051\n",
      "岩 0.657921850681\n",
      "嶂 0.657350003719\n",
      "頂 0.642867922783\n",
      "壇 0.633566319942\n",
      "雲 0.623918652534\n",
      "嶺 0.623150229454\n",
      "崖 0.622414708138\n",
      "龕 0.614285647869\n",
      "庵 0.595021426678\n",
      "------\n",
      "歸\n",
      "去 0.683944702148\n",
      "來 0.640309929848\n",
      "還 0.624234318733\n",
      "終 0.55426377058\n",
      "尋 0.529013693333\n",
      "隨 0.522424042225\n",
      "南 0.522154211998\n",
      "住 0.521514296532\n",
      "游 0.515329539776\n",
      "迷 0.508785486221\n",
      "------\n"
     ]
    }
   ],
   "source": [
    "words = [u'山',u'水',u'江',u'峰',u'歸']\n",
    "for w in words:\n",
    "    print w\n",
    "    for word, score in model.most_similar(positive=[w]):\n",
    "        print word, score\n",
    "    print '------'\n"
   ]
  },
  {
   "cell_type": "markdown",
   "metadata": {},
   "source": [
    "## Vector Operation"
   ]
  },
  {
   "cell_type": "code",
   "execution_count": 4,
   "metadata": {
    "collapsed": false
   },
   "outputs": [
    {
     "name": "stdout",
     "output_type": "stream",
     "text": [
      "母 0.529453158379\n",
      "婺 0.47699251771\n",
      "漢 0.461833119392\n",
      "阿 0.459276050329\n",
      "肋 0.446428209543\n",
      "絞 0.439507544041\n",
      "娟 0.439131319523\n",
      "娥 0.427254378796\n",
      "鶩 0.423119813204\n",
      "婦 0.417632758617\n"
     ]
    }
   ],
   "source": [
    "for word,score in model.most_similar(positive=[u'女',u'父'],negative=[u'男']):\n",
    "    print word,score"
   ]
  },
  {
   "cell_type": "code",
   "execution_count": null,
   "metadata": {
    "collapsed": true
   },
   "outputs": [],
   "source": []
  }
 ],
 "metadata": {
  "kernelspec": {
   "display_name": "Python 2",
   "language": "python",
   "name": "python2"
  },
  "language_info": {
   "codemirror_mode": {
    "name": "ipython",
    "version": 2
   },
   "file_extension": ".py",
   "mimetype": "text/x-python",
   "name": "python",
   "nbconvert_exporter": "python",
   "pygments_lexer": "ipython2",
   "version": "2.7.5"
  }
 },
 "nbformat": 4,
 "nbformat_minor": 0
}
